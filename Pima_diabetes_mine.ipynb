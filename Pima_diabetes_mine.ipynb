{
  "nbformat": 4,
  "nbformat_minor": 0,
  "metadata": {
    "colab": {
      "name": "Untitled0.ipynb",
      "version": "0.3.2",
      "provenance": [],
      "include_colab_link": true
    },
    "kernelspec": {
      "name": "python3",
      "display_name": "Python 3"
    }
  },
  "cells": [
    {
      "cell_type": "markdown",
      "metadata": {
        "id": "view-in-github",
        "colab_type": "text"
      },
      "source": [
        "<a href=\"https://colab.research.google.com/github/jnkx9c/CS-5390/blob/master/Pima_diabetes_mine.ipynb\" target=\"_parent\"><img src=\"https://colab.research.google.com/assets/colab-badge.svg\" alt=\"Open In Colab\"/></a>"
      ]
    },
    {
      "metadata": {
        "id": "Gm89b9CHDyOe",
        "colab_type": "code",
        "colab": {}
      },
      "cell_type": "code",
      "source": [
        "from keras.models import Sequential\n",
        "from keras.layers import Dense\n",
        "from sklearn.metrics import accuracy_score, precision_score, recall_score, f1_score\n",
        "import numpy as np\n",
        "np.random.seed(7)\n",
        "\n",
        "\n"
      ],
      "execution_count": 0,
      "outputs": []
    },
    {
      "metadata": {
        "id": "8_pnmAZREKim",
        "colab_type": "code",
        "colab": {
          "base_uri": "https://localhost:8080/",
          "height": 34
        },
        "outputId": "4f1655eb-2c2f-437f-a2ca-947070e40c19"
      },
      "cell_type": "code",
      "source": [
        "# load pima indians dataset\n",
        "dataset = np.loadtxt(\"https://raw.githubusercontent.com/jbrownlee/Datasets/master/pima-indians-diabetes.data.csv\", delimiter=\",\")\n",
        "print(dataset.shape)"
      ],
      "execution_count": 5,
      "outputs": [
        {
          "output_type": "stream",
          "text": [
            "(768, 9)\n"
          ],
          "name": "stdout"
        }
      ]
    },
    {
      "metadata": {
        "id": "PAb9ajdsEXzb",
        "colab_type": "code",
        "colab": {}
      },
      "cell_type": "code",
      "source": [
        "XTRAIN = dataset[:700,0:8]\n",
        "YTRAIN = dataset[:700,8]\n",
        "XVALIDATION = dataset[700:,0:8]\n",
        "YVALIDATION = dataset[700:,8]"
      ],
      "execution_count": 0,
      "outputs": []
    },
    {
      "metadata": {
        "id": "92IJCmGiEepj",
        "colab_type": "code",
        "colab": {
          "base_uri": "https://localhost:8080/",
          "height": 221
        },
        "outputId": "f510f801-2221-4a53-de42-978ef0995c9d"
      },
      "cell_type": "code",
      "source": [
        "print(XTRAIN.shape)\n",
        "print(YTRAIN.shape)\n",
        "print(XVALIDATION.shape)\n",
        "print(YVALIDATION.shape)\n",
        "print(XTRAIN[0:3,])\n",
        "print(YTRAIN[0:3])\n",
        "print(XVALIDATION[0:3,])\n",
        "print(YVALIDATION[0:3])"
      ],
      "execution_count": 7,
      "outputs": [
        {
          "output_type": "stream",
          "text": [
            "(700, 8)\n",
            "(700,)\n",
            "(68, 8)\n",
            "(68,)\n",
            "[[  6.    148.     72.     35.      0.     33.6     0.627  50.   ]\n",
            " [  1.     85.     66.     29.      0.     26.6     0.351  31.   ]\n",
            " [  8.    183.     64.      0.      0.     23.3     0.672  32.   ]]\n",
            "[1. 0. 1.]\n",
            "[[  2.    122.     76.     27.    200.     35.9     0.483  26.   ]\n",
            " [  6.    125.     78.     31.      0.     27.6     0.565  49.   ]\n",
            " [  1.    168.     88.     29.      0.     35.      0.905  52.   ]]\n",
            "[0. 1. 1.]\n"
          ],
          "name": "stdout"
        }
      ]
    },
    {
      "metadata": {
        "id": "f2c6JUysEvr6",
        "colab_type": "code",
        "colab": {
          "base_uri": "https://localhost:8080/",
          "height": 326
        },
        "outputId": "9c9ad846-fcf7-4540-b5b7-0a4e9c9b772d"
      },
      "cell_type": "code",
      "source": [
        "model = Sequential()\n",
        "model.add(Dense(12, input_dim=8, activation='relu'))\n",
        "model.add(Dense(8, activation='relu'))\n",
        "model.add(Dense(1, activation='sigmoid'))\n",
        "print(model.summary())"
      ],
      "execution_count": 8,
      "outputs": [
        {
          "output_type": "stream",
          "text": [
            "WARNING:tensorflow:From /usr/local/lib/python3.6/dist-packages/tensorflow/python/framework/op_def_library.py:263: colocate_with (from tensorflow.python.framework.ops) is deprecated and will be removed in a future version.\n",
            "Instructions for updating:\n",
            "Colocations handled automatically by placer.\n",
            "_________________________________________________________________\n",
            "Layer (type)                 Output Shape              Param #   \n",
            "=================================================================\n",
            "dense_1 (Dense)              (None, 12)                108       \n",
            "_________________________________________________________________\n",
            "dense_2 (Dense)              (None, 8)                 104       \n",
            "_________________________________________________________________\n",
            "dense_3 (Dense)              (None, 1)                 9         \n",
            "=================================================================\n",
            "Total params: 221\n",
            "Trainable params: 221\n",
            "Non-trainable params: 0\n",
            "_________________________________________________________________\n",
            "None\n"
          ],
          "name": "stdout"
        }
      ]
    },
    {
      "metadata": {
        "id": "76steK6LFpxQ",
        "colab_type": "code",
        "colab": {}
      },
      "cell_type": "code",
      "source": [
        "model.compile(loss='binary_crossentropy', optimizer='adam', metrics=['accuracy'])"
      ],
      "execution_count": 0,
      "outputs": []
    },
    {
      "metadata": {
        "id": "aacYTHjaFu4K",
        "colab_type": "code",
        "colab": {
          "base_uri": "https://localhost:8080/",
          "height": 561
        },
        "outputId": "0e37b6bb-a202-431a-d837-9138dca6af1c"
      },
      "cell_type": "code",
      "source": [
        "model.fit(XTRAIN, YTRAIN, epochs=15, batch_size=10, validation_data=[XVALIDATION,YVALIDATION])"
      ],
      "execution_count": 22,
      "outputs": [
        {
          "output_type": "stream",
          "text": [
            "Train on 700 samples, validate on 68 samples\n",
            "Epoch 1/15\n",
            "700/700 [==============================] - 0s 133us/step - loss: 0.5147 - acc: 0.7614 - val_loss: 0.5468 - val_acc: 0.7500\n",
            "Epoch 2/15\n",
            "700/700 [==============================] - 0s 132us/step - loss: 0.5154 - acc: 0.7486 - val_loss: 0.5357 - val_acc: 0.7941\n",
            "Epoch 3/15\n",
            "700/700 [==============================] - 0s 134us/step - loss: 0.5190 - acc: 0.7486 - val_loss: 0.6045 - val_acc: 0.6765\n",
            "Epoch 4/15\n",
            "700/700 [==============================] - 0s 108us/step - loss: 0.5064 - acc: 0.7500 - val_loss: 0.5852 - val_acc: 0.7206\n",
            "Epoch 5/15\n",
            "700/700 [==============================] - 0s 107us/step - loss: 0.5287 - acc: 0.7329 - val_loss: 0.6126 - val_acc: 0.6912\n",
            "Epoch 6/15\n",
            "700/700 [==============================] - 0s 115us/step - loss: 0.5079 - acc: 0.7643 - val_loss: 0.6013 - val_acc: 0.6912\n",
            "Epoch 7/15\n",
            "700/700 [==============================] - 0s 112us/step - loss: 0.5149 - acc: 0.7486 - val_loss: 0.5729 - val_acc: 0.7206\n",
            "Epoch 8/15\n",
            "700/700 [==============================] - 0s 105us/step - loss: 0.5024 - acc: 0.7514 - val_loss: 0.5946 - val_acc: 0.6912\n",
            "Epoch 9/15\n",
            "700/700 [==============================] - 0s 107us/step - loss: 0.5096 - acc: 0.7500 - val_loss: 0.5610 - val_acc: 0.7647\n",
            "Epoch 10/15\n",
            "700/700 [==============================] - 0s 112us/step - loss: 0.5006 - acc: 0.7657 - val_loss: 0.6131 - val_acc: 0.6765\n",
            "Epoch 11/15\n",
            "700/700 [==============================] - 0s 110us/step - loss: 0.5023 - acc: 0.7600 - val_loss: 0.5867 - val_acc: 0.7059\n",
            "Epoch 12/15\n",
            "700/700 [==============================] - 0s 107us/step - loss: 0.5073 - acc: 0.7543 - val_loss: 0.5700 - val_acc: 0.7353\n",
            "Epoch 13/15\n",
            "700/700 [==============================] - 0s 109us/step - loss: 0.5007 - acc: 0.7629 - val_loss: 0.5882 - val_acc: 0.7206\n",
            "Epoch 14/15\n",
            "700/700 [==============================] - 0s 114us/step - loss: 0.5016 - acc: 0.7457 - val_loss: 0.6299 - val_acc: 0.6765\n",
            "Epoch 15/15\n",
            "700/700 [==============================] - 0s 118us/step - loss: 0.4989 - acc: 0.7500 - val_loss: 0.5303 - val_acc: 0.7794\n"
          ],
          "name": "stdout"
        },
        {
          "output_type": "execute_result",
          "data": {
            "text/plain": [
              "<keras.callbacks.History at 0x7ff899e1f0b8>"
            ]
          },
          "metadata": {
            "tags": []
          },
          "execution_count": 22
        }
      ]
    },
    {
      "metadata": {
        "id": "FqtCjlZIGVp2",
        "colab_type": "code",
        "colab": {
          "base_uri": "https://localhost:8080/",
          "height": 102
        },
        "outputId": "785c37a4-4627-4fdc-b7d6-d310f1f4b4ef"
      },
      "cell_type": "code",
      "source": [
        "\n",
        "scores = model.evaluate(XTRAIN, YTRAIN)\n",
        "print(model.metrics_names)\n",
        "print(scores)\n",
        "print(\"\\n%s: %.2f%%\" % (model.metrics_names[1], scores[1]*100))"
      ],
      "execution_count": 23,
      "outputs": [
        {
          "output_type": "stream",
          "text": [
            "700/700 [==============================] - 0s 29us/step\n",
            "['loss', 'acc']\n",
            "[0.4894465105874198, 0.7657142867360797]\n",
            "\n",
            "acc: 76.57%\n"
          ],
          "name": "stdout"
        }
      ]
    },
    {
      "metadata": {
        "id": "yca8sh3GGd_F",
        "colab_type": "code",
        "colab": {
          "base_uri": "https://localhost:8080/",
          "height": 68
        },
        "outputId": "a637a6ce-e04d-4d30-8c8f-5d4fa3413d4c"
      },
      "cell_type": "code",
      "source": [
        "scores = model.evaluate(XVALIDATION, YVALIDATION)\n",
        "print(\"\\n%s: %.2f%%\" % (model.metrics_names[1], scores[1]*100))"
      ],
      "execution_count": 24,
      "outputs": [
        {
          "output_type": "stream",
          "text": [
            "68/68 [==============================] - 0s 79us/step\n",
            "\n",
            "acc: 77.94%\n"
          ],
          "name": "stdout"
        }
      ]
    },
    {
      "metadata": {
        "id": "KdSQyCsRGm-A",
        "colab_type": "code",
        "colab": {
          "base_uri": "https://localhost:8080/",
          "height": 119
        },
        "outputId": "77ddd171-6f4a-4126-cbd4-1deff54524e5"
      },
      "cell_type": "code",
      "source": [
        "print(XVALIDATION[0:5])\n",
        "print(YVALIDATION[0:10])"
      ],
      "execution_count": 27,
      "outputs": [
        {
          "output_type": "stream",
          "text": [
            "[[2.00e+00 1.22e+02 7.60e+01 2.70e+01 2.00e+02 3.59e+01 4.83e-01 2.60e+01]\n",
            " [6.00e+00 1.25e+02 7.80e+01 3.10e+01 0.00e+00 2.76e+01 5.65e-01 4.90e+01]\n",
            " [1.00e+00 1.68e+02 8.80e+01 2.90e+01 0.00e+00 3.50e+01 9.05e-01 5.20e+01]\n",
            " [2.00e+00 1.29e+02 0.00e+00 0.00e+00 0.00e+00 3.85e+01 3.04e-01 4.10e+01]\n",
            " [4.00e+00 1.10e+02 7.60e+01 2.00e+01 1.00e+02 2.84e+01 1.18e-01 2.70e+01]]\n",
            "[0. 1. 1. 0. 0. 0. 1. 0. 1. 1.]\n"
          ],
          "name": "stdout"
        }
      ]
    },
    {
      "metadata": {
        "id": "Kul7LfKnG8e4",
        "colab_type": "code",
        "colab": {
          "base_uri": "https://localhost:8080/",
          "height": 187
        },
        "outputId": "cac7dcfb-4c6b-47c3-c16f-cea3e18f9287"
      },
      "cell_type": "code",
      "source": [
        "prediction = model.predict(XVALIDATION)\n",
        "print(prediction[0:10].round())"
      ],
      "execution_count": 28,
      "outputs": [
        {
          "output_type": "stream",
          "text": [
            "[[0.]\n",
            " [1.]\n",
            " [1.]\n",
            " [0.]\n",
            " [0.]\n",
            " [0.]\n",
            " [0.]\n",
            " [1.]\n",
            " [1.]\n",
            " [0.]]\n"
          ],
          "name": "stdout"
        }
      ]
    },
    {
      "metadata": {
        "id": "iVmr5FB8HdX6",
        "colab_type": "code",
        "colab": {
          "base_uri": "https://localhost:8080/",
          "height": 85
        },
        "outputId": "0575bc23-776b-4c3d-e693-a5ef5d95216a"
      },
      "cell_type": "code",
      "source": [
        "accuracy = accuracy_score(YVALIDATION, prediction.round())\n",
        "precision = precision_score(YVALIDATION, prediction.round())\n",
        "recall = recall_score(YVALIDATION, prediction.round())\n",
        "f1score = f1_score(YVALIDATION, prediction.round())\n",
        "print(\"Accuracy: %.2f%%\" % (accuracy * 100.0))\n",
        "print(\"Precision: %.2f%%\" % (precision * 100.0))\n",
        "print(\"Recall: %.2f%%\" % (recall * 100.0))\n",
        "print(\"F1-score: %.2f\" % (f1score))"
      ],
      "execution_count": 29,
      "outputs": [
        {
          "output_type": "stream",
          "text": [
            "Accuracy: 77.94%\n",
            "Precision: 80.00%\n",
            "Recall: 59.26%\n",
            "F1-score: 0.68\n"
          ],
          "name": "stdout"
        }
      ]
    }
  ]
}