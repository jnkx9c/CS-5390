{
  "nbformat": 4,
  "nbformat_minor": 0,
  "metadata": {
    "colab": {
      "name": "Untitled0.ipynb",
      "version": "0.3.2",
      "provenance": [],
      "include_colab_link": true
    },
    "kernelspec": {
      "name": "python2",
      "display_name": "Python 2"
    }
  },
  "cells": [
    {
      "cell_type": "markdown",
      "metadata": {
        "id": "view-in-github",
        "colab_type": "text"
      },
      "source": [
        "<a href=\"https://colab.research.google.com/github/jnkx9c/CS-5390/blob/master/python_playground.ipynb\" target=\"_parent\"><img src=\"https://colab.research.google.com/assets/colab-badge.svg\" alt=\"Open In Colab\"/></a>"
      ]
    },
    {
      "metadata": {
        "id": "n6-xIEtS3R5s",
        "colab_type": "text"
      },
      "cell_type": "markdown",
      "source": [
        "This is a **ballad** that I wrote..  I'ts all about peace, love, and good happiness stuff."
      ]
    },
    {
      "metadata": {
        "id": "4QYdXohj3H1L",
        "colab_type": "code",
        "colab": {
          "base_uri": "https://localhost:8080/",
          "height": 34
        },
        "outputId": "5b245a7d-4dc2-468b-a9d5-7a1bec9ce443"
      },
      "cell_type": "code",
      "source": [
        "x = \"cat\"\n",
        "print (x)"
      ],
      "execution_count": 3,
      "outputs": [
        {
          "output_type": "stream",
          "text": [
            "cat\n"
          ],
          "name": "stdout"
        }
      ]
    },
    {
      "metadata": {
        "id": "JqH4CpOZ3iKT",
        "colab_type": "text"
      },
      "cell_type": "markdown",
      "source": [
        "[link text](https://)"
      ]
    },
    {
      "metadata": {
        "id": "JCNzrkc-3ncb",
        "colab_type": "code",
        "colab": {
          "base_uri": "https://localhost:8080/",
          "height": 34
        },
        "outputId": "a41fa837-0ef8-4041-b5fe-b4827acf4844"
      },
      "cell_type": "code",
      "source": [
        "def doIt(name):\n",
        "  print (\"Hello \"+name)\n",
        "\n",
        "doIt(\"Jeff\")\n"
      ],
      "execution_count": 5,
      "outputs": [
        {
          "output_type": "stream",
          "text": [
            "Hello Jeff\n"
          ],
          "name": "stdout"
        }
      ]
    },
    {
      "metadata": {
        "id": "wpgfews731Gi",
        "colab_type": "code",
        "colab": {
          "base_uri": "https://localhost:8080/",
          "height": 102
        },
        "outputId": "ffd8c420-65fa-4d18-a391-6a7c02fe9be2"
      },
      "cell_type": "code",
      "source": [
        "xAry = range(5)\n",
        "print(xAry)\n",
        "print(xAry[2])\n",
        "yAry = xAry[2:4]\n",
        "print yAry\n",
        "yAry[0]=9\n",
        "print yAry\n",
        "print xAry"
      ],
      "execution_count": 5,
      "outputs": [
        {
          "output_type": "stream",
          "text": [
            "[0, 1, 2, 3, 4]\n",
            "2\n",
            "[2, 3]\n",
            "[9, 3]\n",
            "[0, 1, 2, 3, 4]\n"
          ],
          "name": "stdout"
        }
      ]
    }
  ]
}